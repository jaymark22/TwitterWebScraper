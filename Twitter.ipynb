{
 "cells": [
  {
   "cell_type": "code",
   "execution_count": 13,
   "id": "0f2448b0-495b-4481-89e6-d32ff2730953",
   "metadata": {},
   "outputs": [],
   "source": [
    "import re\n",
    "import csv\n",
    "from getpass import getpass\n",
    "from time import sleep\n",
    "from selenium.webdriver.common.keys import Keys\n",
    "from selenium.common.exceptions import NoSuchElementException\n",
    "from selenium import webdriver\n",
    "from selenium.webdriver.common.by import By"
   ]
  },
  {
   "cell_type": "code",
   "execution_count": 14,
   "id": "ab3a298f-d7a9-45da-b83d-866fb0327391",
   "metadata": {},
   "outputs": [],
   "source": [
    "driver = webdriver.Edge()\n",
    "driver.get('https://www.twitter.com/login')\n",
    "driver.maximize_window()"
   ]
  },
  {
   "cell_type": "code",
   "execution_count": 16,
   "id": "1fb6a539-cd3f-4cad-ba45-527cdeeab0ad",
   "metadata": {},
   "outputs": [],
   "source": [
    "username = driver.find_element(By.XPATH, \"//input[@name='text']\")\n",
    "username.send_keys(\"esg_artemis\")\n",
    "next_button = driver.find_element(By.XPATH, \"//span[contains(text(),'Next')]\")\n",
    "next_button.click()"
   ]
  },
  {
   "cell_type": "code",
   "execution_count": 17,
   "id": "55a8f9e9-fe49-445c-aba5-342ed914e1f1",
   "metadata": {},
   "outputs": [],
   "source": [
    "password = driver.find_element(By.XPATH, \"//input[@name='password']\")\n",
    "password.send_keys('artemis.esg1')\n",
    "log_in = driver.find_element(By.XPATH, \"//span[contains(text(),'Log in')]\")\n",
    "log_in.click()"
   ]
  },
  {
   "cell_type": "code",
   "execution_count": 18,
   "id": "1816b39e-8556-4307-b86e-fc6babea8fb5",
   "metadata": {},
   "outputs": [
    {
     "name": "stdin",
     "output_type": "stream",
     "text": [
      "Search:  Saligang Batas\n"
     ]
    }
   ],
   "source": [
    "search = input(\"Search: \")\n",
    "search_box = driver.find_element(By.XPATH, \"//input[@data-testid='SearchBox_Search_Input']\")\n",
    "search_box.send_keys(search)\n",
    "search_box.send_keys(Keys.ENTER)"
   ]
  },
  {
   "cell_type": "code",
   "execution_count": 19,
   "id": "b62079d5-792a-411a-a560-e6c975e445c0",
   "metadata": {},
   "outputs": [
    {
     "name": "stdout",
     "output_type": "stream",
     "text": [
      "Twitter Search Feature:\n",
      "[1] Top\n",
      "[2] Latest\n",
      "[3] People\n",
      "[4] Photos\n",
      "[5] Video\n"
     ]
    },
    {
     "name": "stdin",
     "output_type": "stream",
     "text": [
      "Select the search feature:  2\n"
     ]
    }
   ],
   "source": [
    "print(\"Twitter Search Feature:\")\n",
    "print(\"[1] Top\")\n",
    "print(\"[2] Latest\")\n",
    "print(\"[3] People\")\n",
    "print(\"[4] Photos\")\n",
    "print(\"[5] Video\")\n",
    "\n",
    "user = int(input(\"Select the search feature: \"))\n",
    "\n",
    "if user == 1:  # Top\n",
    "    top = driver.find_element(By.XPATH,\n",
    "                              '//*[@id=\"react-root\"]/div/div/div[2]/main/div/div/div/div[1]/div/div[1]/div[1]/div[2]/nav/div/div[2]/div/div[1]/a/div/span')\n",
    "    top.click()\n",
    "elif user == 2:  # Latest\n",
    "    latest = driver.find_element(By.XPATH,\n",
    "                                 '//*[@id=\"react-root\"]/div/div/div[2]/main/div/div/div/div[1]/div/div[1]/div[1]/div[2]/nav/div/div[2]/div/div[2]/a/div/span')\n",
    "    latest.click()\n",
    "elif user == 3:  # People\n",
    "    people = driver.find_element(By.XPATH,\n",
    "                                 '//*[@id=\"react-root\"]/div/div/div[2]/main/div/div/div/div[1]/div/div[1]/div[1]/div[2]/nav/div/div[2]/div/div[3]/a/div/span')\n",
    "    people.click()\n",
    "elif user == 4:\n",
    "    photos = driver.find_element(By.XPATH,\n",
    "                                 '//*[@id=\"react-root\"]/div/div/div[2]/main/div/div/div/div[1]/div/div[1]/div[1]/div[2]/nav/div/div[2]/div/div[4]/a/div')\n",
    "    photos.click()\n",
    "elif user == 5:\n",
    "    video = driver.find_element(By.XPATH,\n",
    "                                '//*[@id=\"react-root\"]/div/div/div[2]/main/div/div/div/div[1]/div/div[1]/div[1]/div[2]/nav/div/div[2]/div/div[5]/a/div/span')\n",
    "    video.click()"
   ]
  },
  {
   "cell_type": "code",
   "execution_count": 11,
   "id": "4327d1fe-1114-4242-83db-974e1729e0dc",
   "metadata": {},
   "outputs": [],
   "source": [
    "from selenium.common.exceptions import NoSuchElementException\n",
    "from selenium.common.exceptions import StaleElementReferenceException\n",
    "from selenium.webdriver.common.by import By\n",
    "from selenium.webdriver.support.ui import WebDriverWait\n",
    "from selenium.webdriver.support import expected_conditions"
   ]
  },
  {
   "cell_type": "code",
   "execution_count": 20,
   "id": "0c81a224-4caa-4b06-828d-9dafea42102f",
   "metadata": {},
   "outputs": [
    {
     "name": "stdout",
     "output_type": "stream",
     "text": [
      "Please follow the  'YYYY-MM-DD' format\n"
     ]
    },
    {
     "name": "stdin",
     "output_type": "stream",
     "text": [
      "Until what date:  2022-10-01\n"
     ]
    }
   ],
   "source": [
    "from datetime import datetime\n",
    "print(\"Please follow the  'YYYY-MM-DD' format\")\n",
    "date_limiter = input(\"Until what date: \")\n",
    "date_limiter_object = datetime.strptime(date_limiter, '%Y-%m-%d').date()\n",
    "\n",
    "#number_of_tweets = int(input(\"How many tweets you want to get? \"))\n",
    "\n",
    "Usernames = []\n",
    "TimeStamps = []\n",
    "Tweets = []\n",
    "Replies = []\n",
    "Retweets = []\n",
    "Likes = []\n",
    "\n",
    "articles = driver.find_elements(By.XPATH, \"//article[@data-testid='tweet']\")\n",
    "TimeStamp = driver.find_element(By.XPATH, \".//time\").get_attribute('datetime')\n",
    "\n",
    "while True:\n",
    "    for article in articles:\n",
    "        Username = driver.find_element(By.XPATH, \".//div[@data-testid='User-Names']\").text\n",
    "        \n",
    "        TimeStamp = driver.find_element(By.XPATH, \".//time\").get_attribute('datetime')\n",
    "        Tweet = driver.find_element(By.XPATH, \".//div[@data-testid='tweetText']\").text\n",
    "        Reply = driver.find_element(By.XPATH, \".//div[@data-testid='reply']\").text\n",
    "        Retweet = driver.find_element(By.XPATH, \".//div[@data-testid='retweet']\").text\n",
    "        Like = driver.find_element(By.XPATH, \"//div[@data-testid='like']\").text\n",
    "        \n",
    "        Date_no_time = TimeStamp[:10]\n",
    "        Date_no_time_object = datetime.strptime(Date_no_time, '%Y-%m-%d').date()\n",
    "        \n",
    "        #No repetitive tweets will fetch\n",
    "        if Tweet not in Tweets:\n",
    "            Usernames.append(Username)\n",
    "            TimeStamps.append(TimeStamp)\n",
    "            Tweets.append(Tweet)\n",
    "            Replies.append(Reply)\n",
    "            Retweets.append(Retweet)\n",
    "            Likes.append(Like)\n",
    "   \n",
    "    #Date limiter\n",
    "    if date_limiter_object > Date_no_time_object:\n",
    "        break\n",
    "    try:\n",
    "        driver.execute_script('window.scrollTo(0,document.body.scrollHeight);')\n",
    "    except ScrollError:\n",
    "        break\n",
    "   \n",
    "    sleep(3)\n",
    "    articles = driver.find_elements(By.XPATH, \"//article[@data-testid='tweet']\")\n"
   ]
  },
  {
   "cell_type": "code",
   "execution_count": 21,
   "id": "13b8f753-e040-4525-b71a-d9eb2071f3e8",
   "metadata": {},
   "outputs": [],
   "source": [
    "import pandas as pd\n",
    "dataframe = {'UserName': Usernames, 'TimeStamps': TimeStamps, 'Tweets': Tweets, 'Replies': Replies,\n",
    "             'Retweets': Retweets, 'Likes': Likes}\n",
    "df = pd.DataFrame(dataframe)\n",
    "df.to_csv(search + '.csv', encoding='utf-8')"
   ]
  }
 ],
 "metadata": {
  "kernelspec": {
   "display_name": "Python 3 (ipykernel)",
   "language": "python",
   "name": "python3"
  },
  "language_info": {
   "codemirror_mode": {
    "name": "ipython",
    "version": 3
   },
   "file_extension": ".py",
   "mimetype": "text/x-python",
   "name": "python",
   "nbconvert_exporter": "python",
   "pygments_lexer": "ipython3",
   "version": "3.9.13"
  },
  "toc-showcode": true
 },
 "nbformat": 4,
 "nbformat_minor": 5
}
